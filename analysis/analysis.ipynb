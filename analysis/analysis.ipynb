{
 "cells": [
  {
   "cell_type": "code",
   "execution_count": null,
   "id": "2331f0ce-44f7-4596-aacb-3089bc6d1639",
   "metadata": {},
   "outputs": [],
   "source": [
    "# Import necessary libraries\n",
    "import json\n",
    "import glob\n",
    "import os\n",
    "import numpy as np\n",
    "import pandas as pd\n",
    "import matplotlib.pyplot as plt\n",
    "import seaborn as sns\n",
    "\n",
    "# Enable inline plotting for Jupyter Notebook\n",
    "%matplotlib inline\n",
    "\n",
    "# Set a seaborn style for nicer visuals\n",
    "sns.set(style=\"whitegrid\")"
   ]
  },
  {
   "cell_type": "code",
   "execution_count": null,
   "id": "4c1d9873-4ac1-4d2f-b832-35a8999c446a",
   "metadata": {},
   "outputs": [],
   "source": [
    "# Directory where your JSON files reside\n",
    "data_dir = \"data\"  # change this to your directory path\n",
    "\n",
    "# Get a list of all JSON files in the directory\n",
    "json_files = glob.glob(os.path.join(data_dir, \"*.json\"))\n",
    "\n",
    "# Function to flatten one JSON object into a flat dictionary\n",
    "def flatten_json(jdata):\n",
    "    flat = {}\n",
    "    # Process metadata\n",
    "    for k, v in jdata.get('metadata', {}).items():\n",
    "        flat[f'metadata_{k}'] = v\n",
    "    # Process best_solution data\n",
    "    for k, v in jdata.get('best_solution', {}).items():\n",
    "        flat[f'best_solution_{k}'] = v\n",
    "    # Process stats (we flatten each metric)\n",
    "    for metric, stats in jdata.get('stats', {}).items():\n",
    "        for stat_key, stat_val in stats.items():\n",
    "            flat[f'stats_{metric}_{stat_key}'] = stat_val\n",
    "    # Optionally, you could also store raw_metrics as-is or compute summaries\n",
    "    for metric, values in jdata.get('raw_metrics', {}).items():\n",
    "        # Here we store the mean of the raw metrics.\n",
    "        flat[f'raw_{metric}_mean'] = np.mean(values) if values else np.nan\n",
    "        flat[f'raw_{metric}_min'] = np.min(values) if values else np.nan\n",
    "        flat[f'raw_{metric}_max'] = np.max(values) if values else np.nan\n",
    "    return flat\n",
    "\n",
    "# Loop through each file, load and flatten the JSON data\n",
    "records = []\n",
    "for f in json_files:\n",
    "    with open(f, 'r') as infile:\n",
    "        try:\n",
    "            data = json.load(infile)\n",
    "            flat_data = flatten_json(data)\n",
    "            records.append(flat_data)\n",
    "        except Exception as e:\n",
    "            print(f\"Error reading {f}: {e}\")\n",
    "\n",
    "# Create a pandas DataFrame from the flattened data\n",
    "df = pd.DataFrame(records)\n",
    "df.head()\n"
   ]
  },
  {
   "cell_type": "code",
   "execution_count": null,
   "id": "d5a244ab-f66f-4414-b960-203f0462cc4d",
   "metadata": {},
   "outputs": [],
   "source": [
    "# Convert datetime string to datetime object\n",
    "df['metadata_datetime'] = pd.to_datetime(df['metadata_datetime'], format='%Y-%m-%dT%H_%M_%S.%fZ')\n",
    "\n",
    "# Check the dataframe info and data types\n",
    "df.info()\n"
   ]
  },
  {
   "cell_type": "code",
   "execution_count": null,
   "id": "385fdb58-9906-4a33-a50d-ca5900d27bc1",
   "metadata": {},
   "outputs": [],
   "source": [
    "# Summary statistics for main numerical columns\n",
    "df.describe()\n"
   ]
  },
  {
   "cell_type": "code",
   "execution_count": null,
   "id": "18231b97-8c0a-4d8f-b8f9-32a7fb9339cb",
   "metadata": {},
   "outputs": [],
   "source": [
    "plt.figure(figsize=(8, 6))\n",
    "sns.scatterplot(\n",
    "    x='stats_cost_avg', \n",
    "    y='best_solution_cost', \n",
    "    hue='metadata_problem',\n",
    "    style='metadata_machine',\n",
    "    data=df,\n",
    "    s=100\n",
    ")\n",
    "plt.xlabel(\"Average Cost (stats)\")\n",
    "plt.ylabel(\"Best Solution Cost\")\n",
    "plt.title(\"Comparison of Best vs. Average Cost\")\n",
    "plt.show()\n"
   ]
  },
  {
   "cell_type": "code",
   "execution_count": null,
   "id": "105c3dd5-ae31-41c9-bf15-19c287a84b11",
   "metadata": {},
   "outputs": [],
   "source": [
    "plt.figure(figsize=(8, 6))\n",
    "sns.histplot(df['best_solution_cost'], bins=20, kde=True)\n",
    "plt.xlabel(\"Best Solution Cost\")\n",
    "plt.title(\"Distribution of Best Solution Cost\")\n",
    "plt.show()\n"
   ]
  },
  {
   "cell_type": "code",
   "execution_count": null,
   "id": "f211f81b-eec0-4ff0-a245-b3b15cce561d",
   "metadata": {},
   "outputs": [],
   "source": [
    "# Group by problem and summarize best and average costs\n",
    "problem_summary = df.groupby('metadata_problem').agg({\n",
    "    'best_solution_cost': ['mean', 'min', 'max'],\n",
    "    'stats_cost_avg': ['mean', 'min', 'max'],\n",
    "    'stats_cost_stdev': 'mean'\n",
    "})\n",
    "problem_summary.columns = ['_'.join(col).strip() for col in problem_summary.columns.values]\n",
    "problem_summary.reset_index(inplace=True)\n",
    "problem_summary\n"
   ]
  },
  {
   "cell_type": "code",
   "execution_count": null,
   "id": "7fd4ea07-498c-4f69-a346-6cb1bcb3ec9b",
   "metadata": {},
   "outputs": [],
   "source": [
    "plt.figure(figsize=(8, 6))\n",
    "sns.boxplot(x='metadata_problem', y='raw_cycles_mean', data=df)\n",
    "plt.title(\"Raw Mean Cycles by Problem\")\n",
    "plt.xlabel(\"Problem\")\n",
    "plt.ylabel(\"Mean Cycles\")\n",
    "plt.show()\n",
    "\n",
    "plt.figure(figsize=(8, 6))\n",
    "sns.boxplot(x='metadata_problem', y='raw_iterations_mean', data=df)\n",
    "plt.title(\"Raw Mean Iterations by Problem\")\n",
    "plt.xlabel(\"Problem\")\n",
    "plt.ylabel(\"Mean Iterations\")\n",
    "plt.show()\n"
   ]
  },
  {
   "cell_type": "code",
   "execution_count": null,
   "id": "fae1f130-2226-4b1c-887f-eeccec490719",
   "metadata": {},
   "outputs": [],
   "source": [
    "correlation_matrix = df.corr()\n",
    "plt.figure(figsize=(10, 8))\n",
    "sns.heatmap(correlation_matrix, annot=True, fmt=\".2f\", cmap=\"coolwarm\")\n",
    "plt.title(\"Correlation Matrix\")\n",
    "plt.show()\n"
   ]
  },
  {
   "cell_type": "code",
   "execution_count": null,
   "id": "11c8f53a-7bf7-4c43-a1c0-01c93729ee11",
   "metadata": {},
   "outputs": [],
   "source": [
    "df.set_index('metadata_datetime', inplace=True)\n",
    "df['best_solution_cost'].resample('D').mean().plot(figsize=(10,6), marker='o')\n",
    "plt.title(\"Daily Mean Best Solution Cost\")\n",
    "plt.ylabel(\"Best Solution Cost\")\n",
    "plt.xlabel(\"Date\")\n",
    "plt.show()\n",
    "\n",
    "# Reset index if needed:\n",
    "df.reset_index(inplace=True)\n"
   ]
  },
  {
   "cell_type": "code",
   "execution_count": null,
   "id": "c3b913f9-c4e9-4e22-817e-cfdaf3617b13",
   "metadata": {},
   "outputs": [],
   "source": [
    "pivot = pd.pivot_table(df, \n",
    "                       values='best_solution_cost', \n",
    "                       index='metadata_problem', \n",
    "                       columns='metadata_machine', \n",
    "                       aggfunc=np.mean)\n",
    "pivot\n"
   ]
  }
 ],
 "metadata": {
  "kernelspec": {
   "display_name": "Python 3 (ipykernel)",
   "language": "python",
   "name": "python3"
  },
  "language_info": {
   "codemirror_mode": {
    "name": "ipython",
    "version": 3
   },
   "file_extension": ".py",
   "mimetype": "text/x-python",
   "name": "python",
   "nbconvert_exporter": "python",
   "pygments_lexer": "ipython3",
   "version": "3.10.12"
  }
 },
 "nbformat": 4,
 "nbformat_minor": 5
}
